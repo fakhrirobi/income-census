{
 "cells": [
  {
   "cell_type": "code",
   "execution_count": 1,
   "id": "raised-reality",
   "metadata": {},
   "outputs": [
    {
     "name": "stdout",
     "output_type": "stream",
     "text": [
      "all required library done\n"
     ]
    }
   ],
   "source": [
    "import pandas as pd\n",
    "import numpy as np \n",
    "import matplotlib.pyplot as plt\n",
    "import seaborn as sns\n",
    "print('all required library done')"
   ]
  },
  {
   "cell_type": "code",
   "execution_count": 2,
   "id": "synthetic-locator",
   "metadata": {},
   "outputs": [],
   "source": [
    "train = pd.read_excel('adult dataset_income.xlsx',engine='openpyxl')\n",
    "test = pd.read_excel('test_adult dataset.xlsx',engine='openpyxl')"
   ]
  },
  {
   "cell_type": "code",
   "execution_count": 3,
   "id": "higher-occupation",
   "metadata": {},
   "outputs": [
    {
     "data": {
      "text/plain": [
       "(32561, 15)"
      ]
     },
     "execution_count": 3,
     "metadata": {},
     "output_type": "execute_result"
    }
   ],
   "source": [
    "train.shape"
   ]
  },
  {
   "cell_type": "code",
   "execution_count": 4,
   "id": "painted-valuable",
   "metadata": {},
   "outputs": [
    {
     "data": {
      "text/plain": [
       "(16281, 15)"
      ]
     },
     "execution_count": 4,
     "metadata": {},
     "output_type": "execute_result"
    }
   ],
   "source": [
    "test.shape"
   ]
  },
  {
   "cell_type": "code",
   "execution_count": 5,
   "id": "pursuant-breath",
   "metadata": {},
   "outputs": [
    {
     "name": "stdout",
     "output_type": "stream",
     "text": [
      "---------------------------- age -------------------------------\n",
      "[25 38 28 44 18 34 29 63 24 55 65 36 26 58 48 43 20 37 40 72 45 22 23 54\n",
      " 32 46 56 17 39 52 21 42 33 30 47 41 19 69 50 31 59 49 51 27 57 61 64 79\n",
      " 73 53 77 80 62 35 68 66 75 60 67 71 70 90 81 74 78 82 83 85 76 84 89 88\n",
      " 87]\n",
      "---------------------------- workclass -------------------------------\n",
      "[' Private' ' Local-gov' ' ?' ' Self-emp-not-inc' ' Federal-gov'\n",
      " ' State-gov' ' Self-emp-inc' ' Without-pay' ' Never-worked']\n",
      "---------------------------- fnlwgt -------------------------------\n",
      "[226802  89814 336951 ... 349230 321403  83891]\n",
      "---------------------------- education -------------------------------\n",
      "[' 11th' ' HS-grad' ' Assoc-acdm' ' Some-college' ' 10th' ' Prof-school'\n",
      " ' 7th-8th' ' Bachelors' ' Masters' ' Doctorate' ' 5th-6th' ' Assoc-voc'\n",
      " ' 9th' ' 12th' ' 1st-4th' ' Preschool']\n",
      "---------------------------- education-num -------------------------------\n",
      "[ 7  9 12 10  6 15  4 13 14 16  3 11  5  8  2  1]\n",
      "---------------------------- marital-status -------------------------------\n",
      "[' Never-married' ' Married-civ-spouse' ' Widowed' ' Divorced'\n",
      " ' Separated' ' Married-spouse-absent' ' Married-AF-spouse']\n",
      "---------------------------- occupation -------------------------------\n",
      "[' Machine-op-inspct' ' Farming-fishing' ' Protective-serv' ' ?'\n",
      " ' Other-service' ' Prof-specialty' ' Craft-repair' ' Adm-clerical'\n",
      " ' Exec-managerial' ' Tech-support' ' Sales' ' Priv-house-serv'\n",
      " ' Transport-moving' ' Handlers-cleaners' ' Armed-Forces']\n",
      "---------------------------- relationship -------------------------------\n",
      "[' Own-child' ' Husband' ' Not-in-family' ' Unmarried' ' Wife'\n",
      " ' Other-relative']\n",
      "---------------------------- race -------------------------------\n",
      "[' Black' ' White' ' Asian-Pac-Islander' ' Other' ' Amer-Indian-Eskimo']\n",
      "---------------------------- sex -------------------------------\n",
      "[' Male' ' Female']\n",
      "---------------------------- capital-gain -------------------------------\n",
      "[    0  7688  3103  6418  7298  3908 14084  5178 15024 99999  2597  2907\n",
      "  4650  6497  1055  5013 27828  4934  4064  3674  2174 10605  3418   114\n",
      "  2580  3411  4508  4386  8614 13550  6849  2463  3137  2885  2964  1471\n",
      " 10566  2354  1424  1455  3325  4416 25236   594  2105  4787  2829   401\n",
      "  4865  1264  1506 10520  3464  2653 20051  4101  1797  2407  3471  1086\n",
      "  1848 14344  1151  2993  2290 15020  9386  2202  3818  2176  5455 11678\n",
      "  7978  7262  6514 41310  3456  7430  2414  2062 34095  1831  6723  5060\n",
      " 15831  2977  2346  3273  2329  9562  2635  4931  1731  6097   914  7896\n",
      "  5556  1409  3781  3942  2538  3887 25124  7443  5721  1173  4687  6612\n",
      "  6767  2961   991  2036  2936]\n",
      "---------------------------- capital-loss -------------------------------\n",
      "[   0 1721 1876 2415 1887  625 1977 2057 1429 1590 1485 2051 2377 1672\n",
      " 1628 1902 1602 1741 2444 1408 2001 2042 1740 1825 1848 1719 3004 2179\n",
      " 1573 2205 1258 2339 1726 2258 1340 1504 2559 1668 1974 1980 1564 2547\n",
      " 2002 1669 1617  323 3175 2472 2174 1579 2129 1510 1735 2282 1870 1411\n",
      " 1911 1651 1092 1762 2457 2231 2238  653 1138 2246 2603 2392 1944 1380\n",
      " 2465 1421 3770 1594  213 2149 2824 1844 2467 2163 1816 1648]\n",
      "---------------------------- hours-per-week -------------------------------\n",
      "[40 50 30 32 10 39 35 48 25 20 45 47  6 43 90 54 60 38 36 18 24 44 56 28\n",
      " 16 41 22 55 14 33 37  8 12 70 15 75 52 84 42 80 68 99 65  5 17 72 53 29\n",
      " 96 21 46  3  1 23 49 67 76  7  2 58 26 34  4 51 78 63 31 92 77 27 85 13\n",
      " 19 98 62 66 57 11 86 59  9 64 73 61 88 79 89 74 69]\n",
      "---------------------------- native-country -------------------------------\n",
      "[' United-States' ' ?' ' Peru' ' Guatemala' ' Mexico'\n",
      " ' Dominican-Republic' ' Ireland' ' Germany' ' Philippines' ' Thailand'\n",
      " ' Haiti' ' El-Salvador' ' Puerto-Rico' ' Vietnam' ' South' ' Columbia'\n",
      " ' Japan' ' India' ' Cambodia' ' Poland' ' Laos' ' England' ' Cuba'\n",
      " ' Taiwan' ' Italy' ' Canada' ' Portugal' ' China' ' Nicaragua'\n",
      " ' Honduras' ' Iran' ' Scotland' ' Jamaica' ' Ecuador' ' Yugoslavia'\n",
      " ' Hungary' ' Hong' ' Greece' ' Trinadad&Tobago'\n",
      " ' Outlying-US(Guam-USVI-etc)' ' France']\n",
      "---------------------------- class(target -------------------------------\n",
      "[' <=50K.' ' >50K.']\n"
     ]
    }
   ],
   "source": [
    "for column in test.columns : \n",
    "    print('----------------------------',column,'-------------------------------')\n",
    "    print(test[column].unique())\n"
   ]
  },
  {
   "cell_type": "code",
   "execution_count": 6,
   "id": "double-harvey",
   "metadata": {},
   "outputs": [],
   "source": [
    "for column in test.columns : \n",
    "    if test[column].dtypes == 'object' : \n",
    "        test[column] = test[column].apply(lambda x : x.strip())\n",
    "    "
   ]
  },
  {
   "cell_type": "code",
   "execution_count": 7,
   "id": "black-first",
   "metadata": {},
   "outputs": [],
   "source": [
    "test['class(target'] = test['class(target'].str.replace('.','')"
   ]
  },
  {
   "cell_type": "code",
   "execution_count": 8,
   "id": "capital-aaron",
   "metadata": {},
   "outputs": [
    {
     "data": {
      "text/plain": [
       "0        <=50K\n",
       "1        <=50K\n",
       "2         >50K\n",
       "3         >50K\n",
       "4        <=50K\n",
       "         ...  \n",
       "16276    <=50K\n",
       "16277    <=50K\n",
       "16278    <=50K\n",
       "16279    <=50K\n",
       "16280     >50K\n",
       "Name: class(target, Length: 16281, dtype: object"
      ]
     },
     "execution_count": 8,
     "metadata": {},
     "output_type": "execute_result"
    }
   ],
   "source": [
    "test['class(target']"
   ]
  },
  {
   "cell_type": "code",
   "execution_count": 9,
   "id": "secure-snowboard",
   "metadata": {},
   "outputs": [],
   "source": [
    "joined_df = pd.concat([train,test])"
   ]
  },
  {
   "cell_type": "code",
   "execution_count": 10,
   "id": "reasonable-simpson",
   "metadata": {},
   "outputs": [
    {
     "name": "stdout",
     "output_type": "stream",
     "text": [
      "---------------------------- age -------------------------------\n",
      "[39 50 38 53 28 37 49 52 31 42 30 23 32 40 34 25 43 54 35 59 56 19 20 45\n",
      " 22 48 21 24 57 44 41 29 18 47 46 36 79 27 67 33 76 17 55 61 70 64 71 68\n",
      " 66 51 58 26 60 90 75 65 77 62 63 80 72 74 69 73 81 78 88 82 83 84 85 86\n",
      " 87 89]\n",
      "---------------------------- workclass -------------------------------\n",
      "['State-gov' 'Self-emp-not-inc' 'Private' 'Federal-gov' 'Local-gov' '?'\n",
      " 'Self-emp-inc' 'Without-pay' 'Never-worked']\n",
      "---------------------------- fnlwgt -------------------------------\n",
      "[ 77516  83311 215646 ... 173449  89686 350977]\n",
      "---------------------------- education -------------------------------\n",
      "['Bachelors' 'HS-grad' '11th' 'Masters' '9th' 'Some-college' 'Assoc-acdm'\n",
      " 'Assoc-voc' '7th-8th' 'Doctorate' 'Prof-school' '5th-6th' '10th'\n",
      " '1st-4th' 'Preschool' '12th']\n",
      "---------------------------- education-num -------------------------------\n",
      "[13  9  7 14  5 10 12 11  4 16 15  3  6  2  1  8]\n",
      "---------------------------- marital-status -------------------------------\n",
      "['Never-married' 'Married-civ-spouse' 'Divorced' 'Married-spouse-absent'\n",
      " 'Separated' 'Married-AF-spouse' 'Widowed']\n",
      "---------------------------- occupation -------------------------------\n",
      "['Adm-clerical' 'Exec-managerial' 'Handlers-cleaners' 'Prof-specialty'\n",
      " 'Other-service' 'Sales' 'Craft-repair' 'Transport-moving'\n",
      " 'Farming-fishing' 'Machine-op-inspct' 'Tech-support' '?'\n",
      " 'Protective-serv' 'Armed-Forces' 'Priv-house-serv']\n",
      "---------------------------- relationship -------------------------------\n",
      "['Not-in-family' 'Husband' 'Wife' 'Own-child' 'Unmarried' 'Other-relative']\n",
      "---------------------------- race -------------------------------\n",
      "['White' 'Black' 'Asian-Pac-Islander' 'Amer-Indian-Eskimo' 'Other']\n",
      "---------------------------- sex -------------------------------\n",
      "['Male' 'Female']\n",
      "---------------------------- capital-gain -------------------------------\n",
      "[ 2174     0 14084  5178  5013  2407 14344 15024  7688 34095  4064  4386\n",
      "  7298  1409  3674  1055  3464  2050  2176   594 20051  6849  4101  1111\n",
      "  8614  3411  2597 25236  4650  9386  2463  3103 10605  2964  3325  2580\n",
      "  3471  4865 99999  6514  1471  2329  2105  2885 25124 10520  2202  2961\n",
      " 27828  6767  2228  1506 13550  2635  5556  4787  3781  3137  3818  3942\n",
      "   914   401  2829  2977  4934  2062  2354  5455 15020  1424  3273 22040\n",
      "  4416  3908 10566   991  4931  1086  7430  6497   114  7896  2346  3418\n",
      "  3432  2907  1151  2414  2290 15831 41310  4508  2538  3456  6418  1848\n",
      "  3887  5721  9562  1455  2036  1831 11678  2936  2993  7443  6360  1797\n",
      "  1173  4687  6723  2009  6097  2653  1639 18481  7978  2387  5060  1264\n",
      "  7262  1731  6612]\n",
      "---------------------------- capital-loss -------------------------------\n",
      "[   0 2042 1408 1902 1573 1887 1719 1762 1564 2179 1816 1980 1977 1876\n",
      " 1340 2206 1741 1485 2339 2415 1380 1721 2051 2377 1669 2352 1672  653\n",
      " 2392 1504 2001 1590 1651 1628 1848 1740 2002 1579 2258 1602  419 2547\n",
      " 2174 2205 1726 2444 1138 2238  625  213 1539  880 1668 1092 1594 3004\n",
      " 2231 1844  810 2824 2559 2057 1974  974 2149 1825 1735 1258 2129 2603\n",
      " 2282  323 4356 2246 1617 1648 2489 3770 1755 3683 2267 2080 2457  155\n",
      " 3900 2201 1944 2467 2163 2754 2472 1411 1429 3175 1510 1870 1911 2465\n",
      " 1421]\n",
      "---------------------------- hours-per-week -------------------------------\n",
      "[40 13 16 45 50 80 30 35 60 20 52 44 15 25 38 43 55 48 58 32 70  2 22 56\n",
      " 41 28 36 24 46 42 12 65  1 10 34 75 98 33 54  8  6 64 19 18 72  5  9 47\n",
      " 37 21 26 14  4 59  7 99 53 39 62 57 78 90 66 11 49 84  3 17 68 27 85 31\n",
      " 51 77 63 23 87 88 73 89 97 94 29 96 67 82 86 91 81 76 92 61 74 95 79 69]\n",
      "---------------------------- native-country -------------------------------\n",
      "['United-States' 'Cuba' 'Jamaica' 'India' '?' 'Mexico' 'South'\n",
      " 'Puerto-Rico' 'Honduras' 'England' 'Canada' 'Germany' 'Iran'\n",
      " 'Philippines' 'Italy' 'Poland' 'Columbia' 'Cambodia' 'Thailand' 'Ecuador'\n",
      " 'Laos' 'Taiwan' 'Haiti' 'Portugal' 'Dominican-Republic' 'El-Salvador'\n",
      " 'France' 'Guatemala' 'China' 'Japan' 'Yugoslavia' 'Peru'\n",
      " 'Outlying-US(Guam-USVI-etc)' 'Scotland' 'Trinadad&Tobago' 'Greece'\n",
      " 'Nicaragua' 'Vietnam' 'Hong' 'Ireland' 'Hungary' 'Holand-Netherlands']\n",
      "---------------------------- class(target -------------------------------\n",
      "['<=50K' '>50K']\n"
     ]
    }
   ],
   "source": [
    "\n",
    "for column in joined_df.columns : \n",
    "    print('----------------------------',column,'-------------------------------')\n",
    "    print(joined_df[column].unique())\n"
   ]
  },
  {
   "cell_type": "code",
   "execution_count": 11,
   "id": "sweet-penny",
   "metadata": {},
   "outputs": [],
   "source": [
    "#replacing ? sign with \n",
    "joined_df.replace('?',np.nan,inplace=True)"
   ]
  },
  {
   "cell_type": "code",
   "execution_count": 12,
   "id": "exceptional-ordinary",
   "metadata": {},
   "outputs": [
    {
     "name": "stdout",
     "output_type": "stream",
     "text": [
      "<class 'pandas.core.frame.DataFrame'>\n",
      "Int64Index: 48842 entries, 0 to 16280\n",
      "Data columns (total 15 columns):\n",
      " #   Column          Non-Null Count  Dtype \n",
      "---  ------          --------------  ----- \n",
      " 0   age             48842 non-null  int64 \n",
      " 1   workclass       46043 non-null  object\n",
      " 2   fnlwgt          48842 non-null  int64 \n",
      " 3   education       48842 non-null  object\n",
      " 4   education-num   48842 non-null  int64 \n",
      " 5   marital-status  48842 non-null  object\n",
      " 6   occupation      46033 non-null  object\n",
      " 7   relationship    48842 non-null  object\n",
      " 8   race            48842 non-null  object\n",
      " 9   sex             48842 non-null  object\n",
      " 10  capital-gain    48842 non-null  int64 \n",
      " 11  capital-loss    48842 non-null  int64 \n",
      " 12  hours-per-week  48842 non-null  int64 \n",
      " 13  native-country  47985 non-null  object\n",
      " 14  class(target    48842 non-null  object\n",
      "dtypes: int64(6), object(9)\n",
      "memory usage: 6.0+ MB\n"
     ]
    }
   ],
   "source": [
    "joined_df.info()"
   ]
  },
  {
   "cell_type": "code",
   "execution_count": 13,
   "id": "greek-speed",
   "metadata": {},
   "outputs": [
    {
     "data": {
      "text/plain": [
       "age                  0\n",
       "workclass         2799\n",
       "fnlwgt               0\n",
       "education            0\n",
       "education-num        0\n",
       "marital-status       0\n",
       "occupation        2809\n",
       "relationship         0\n",
       "race                 0\n",
       "sex                  0\n",
       "capital-gain         0\n",
       "capital-loss         0\n",
       "hours-per-week       0\n",
       "native-country     857\n",
       "class(target         0\n",
       "dtype: int64"
      ]
     },
     "execution_count": 13,
     "metadata": {},
     "output_type": "execute_result"
    }
   ],
   "source": [
    "joined_df.isnull().sum()"
   ]
  },
  {
   "cell_type": "code",
   "execution_count": 14,
   "id": "integrated-shade",
   "metadata": {},
   "outputs": [],
   "source": [
    "#filling missing value :\n",
    "#filling missing value for categorical variables\n",
    "joined_df['workclass'].fillna(joined_df['workclass'].mode()[0],inplace=True)\n",
    "joined_df['occupation'].fillna(joined_df['occupation'].mode()[0],inplace=True)\n",
    "joined_df['native-country'].fillna(joined_df['native-country'].mode()[0],inplace=True)"
   ]
  },
  {
   "cell_type": "code",
   "execution_count": 15,
   "id": "continental-possession",
   "metadata": {},
   "outputs": [
    {
     "data": {
      "text/plain": [
       "age               0\n",
       "workclass         0\n",
       "fnlwgt            0\n",
       "education         0\n",
       "education-num     0\n",
       "marital-status    0\n",
       "occupation        0\n",
       "relationship      0\n",
       "race              0\n",
       "sex               0\n",
       "capital-gain      0\n",
       "capital-loss      0\n",
       "hours-per-week    0\n",
       "native-country    0\n",
       "class(target      0\n",
       "dtype: int64"
      ]
     },
     "execution_count": 15,
     "metadata": {},
     "output_type": "execute_result"
    }
   ],
   "source": [
    "joined_df.isnull().sum()"
   ]
  },
  {
   "cell_type": "code",
   "execution_count": 16,
   "id": "agricultural-differential",
   "metadata": {},
   "outputs": [],
   "source": [
    "non_categorical_columns = joined_df.select_dtypes(exclude='object').columns"
   ]
  },
  {
   "cell_type": "code",
   "execution_count": 17,
   "id": "usual-spray",
   "metadata": {},
   "outputs": [
    {
     "name": "stdout",
     "output_type": "stream",
     "text": [
      "age 0.5575803166133182\n",
      "fnlwgt 1.4388918785218416\n",
      "education-num -0.3165248566607419\n",
      "capital-gain 11.894658996587948\n",
      "capital-loss 4.569808857738483\n",
      "hours-per-week 0.23874965720275756\n"
     ]
    }
   ],
   "source": [
    "for col in non_categorical_columns : \n",
    "    print(col,joined_df[col].skew())"
   ]
  },
  {
   "cell_type": "code",
   "execution_count": 18,
   "id": "hidden-bible",
   "metadata": {},
   "outputs": [
    {
     "data": {
      "text/plain": [
       "<AxesSubplot:xlabel='capital-loss'>"
      ]
     },
     "execution_count": 18,
     "metadata": {},
     "output_type": "execute_result"
    },
    {
     "data": {
      "image/png": "[encoded data removed]",
      "text/plain": [
       "<Figure size 432x288 with 1 Axes>"
      ]
     },
     "metadata": {
      "needs_background": "light"
     },
     "output_type": "display_data"
    }
   ],
   "source": [
    "#scaling feature for capital gain and capital loss\n",
    "sns.boxplot(x='capital-loss',data=joined_df)"
   ]
  },
  {
   "cell_type": "code",
   "execution_count": 19,
   "id": "developing-grill",
   "metadata": {},
   "outputs": [
    {
     "data": {
      "text/plain": [
       "<AxesSubplot:xlabel='capital-gain'>"
      ]
     },
     "execution_count": 19,
     "metadata": {},
     "output_type": "execute_result"
    },
    {
     "data": {
      "image/png": "[encoded data removed]",
      "text/plain": [
       "<Figure size 432x288 with 1 Axes>"
      ]
     },
     "metadata": {
      "needs_background": "light"
     },
     "output_type": "display_data"
    }
   ],
   "source": [
    "sns.boxplot(x='capital-gain',data=joined_df)"
   ]
  },
  {
   "cell_type": "code",
   "execution_count": 20,
   "id": "hungarian-commitment",
   "metadata": {},
   "outputs": [],
   "source": [
    "#transform data \n",
    "#joined_df['capital-loss'] = np.log1p(joined_df['capital-loss'])\n",
    "#joined_df['capital-gain'] = np.log1p(joined_df['capital-gain'])"
   ]
  },
  {
   "cell_type": "code",
   "execution_count": 21,
   "id": "former-killing",
   "metadata": {},
   "outputs": [
    {
     "name": "stdout",
     "output_type": "stream",
     "text": [
      "age 0.5575803166133182\n",
      "fnlwgt 1.4388918785218416\n",
      "education-num -0.3165248566607419\n",
      "capital-gain 11.894658996587948\n",
      "capital-loss 4.569808857738483\n",
      "hours-per-week 0.23874965720275756\n"
     ]
    }
   ],
   "source": [
    "for col in non_categorical_columns : \n",
    "    print(col,joined_df[col].skew())"
   ]
  },
  {
   "cell_type": "code",
   "execution_count": 22,
   "id": "fancy-cooperation",
   "metadata": {},
   "outputs": [],
   "source": [
    "from sklearn.preprocessing import RobustScaler,PowerTransformer,StandardScaler,MaxAbsScaler\n",
    "scaler = MaxAbsScaler()"
   ]
  },
  {
   "cell_type": "code",
   "execution_count": 23,
   "id": "talented-harvey",
   "metadata": {},
   "outputs": [],
   "source": [
    "scaled_columns = ['capital-loss','capital-gain']"
   ]
  },
  {
   "cell_type": "code",
   "execution_count": 24,
   "id": "martial-danger",
   "metadata": {},
   "outputs": [],
   "source": [
    "for col in scaled_columns : \n",
    "    array_ = np.array(joined_df[col]).reshape(-1,1)\n",
    "    array_ = scaler.fit_transform(array_)\n",
    "    joined_df[col] = array_"
   ]
  },
  {
   "cell_type": "code",
   "execution_count": 25,
   "id": "appointed-organic",
   "metadata": {},
   "outputs": [
    {
     "name": "stdout",
     "output_type": "stream",
     "text": [
      "age 0.5575803166133182\n",
      "fnlwgt 1.4388918785218416\n",
      "education-num -0.3165248566607419\n",
      "capital-gain 11.894658996587948\n",
      "capital-loss 4.569808857738486\n",
      "hours-per-week 0.23874965720275756\n"
     ]
    }
   ],
   "source": [
    "for col in non_categorical_columns : \n",
    "    print(col,joined_df[col].skew())"
   ]
  },
  {
   "cell_type": "code",
   "execution_count": 26,
   "id": "laughing-database",
   "metadata": {},
   "outputs": [
    {
     "data": {
      "text/plain": [
       "0        <=50K\n",
       "1        <=50K\n",
       "2        <=50K\n",
       "3        <=50K\n",
       "4        <=50K\n",
       "         ...  \n",
       "16276    <=50K\n",
       "16277    <=50K\n",
       "16278    <=50K\n",
       "16279    <=50K\n",
       "16280     >50K\n",
       "Name: target, Length: 48842, dtype: object"
      ]
     },
     "execution_count": 26,
     "metadata": {},
     "output_type": "execute_result"
    }
   ],
   "source": [
    "#encoding categorical values :\n",
    "joined_df.rename(columns={'class(target':'target'},inplace=True)\n",
    "#mapping the target columns : \n",
    "joined_df['target']"
   ]
  },
  {
   "cell_type": "code",
   "execution_count": 27,
   "id": "israeli-colony",
   "metadata": {},
   "outputs": [
    {
     "data": {
      "text/plain": [
       "Index(['age', 'workclass', 'fnlwgt', 'education', 'education-num',\n",
       "       'marital-status', 'occupation', 'relationship', 'race', 'sex',\n",
       "       'capital-gain', 'capital-loss', 'hours-per-week', 'native-country',\n",
       "       'target'],\n",
       "      dtype='object')"
      ]
     },
     "execution_count": 27,
     "metadata": {},
     "output_type": "execute_result"
    }
   ],
   "source": [
    "joined_df.columns"
   ]
  },
  {
   "cell_type": "code",
   "execution_count": 28,
   "id": "balanced-advertising",
   "metadata": {},
   "outputs": [
    {
     "data": {
      "text/plain": [
       "Index(['age', 'workclass', 'fnlwgt', 'education', 'education-num',\n",
       "       'marital-status', 'occupation', 'relationship', 'race', 'sex',\n",
       "       'capital-gain', 'capital-loss', 'hours-per-week', 'native-country',\n",
       "       'target'],\n",
       "      dtype='object')"
      ]
     },
     "execution_count": 28,
     "metadata": {},
     "output_type": "execute_result"
    }
   ],
   "source": [
    "joined_df.columns"
   ]
  },
  {
   "cell_type": "code",
   "execution_count": 29,
   "id": "knowing-zoning",
   "metadata": {},
   "outputs": [],
   "source": [
    "column_to_encode = [x for x in joined_df.columns if x != 'target']"
   ]
  },
  {
   "cell_type": "code",
   "execution_count": 30,
   "id": "otherwise-grain",
   "metadata": {},
   "outputs": [],
   "source": [
    "#encoding categorical values \n",
    "joined_df_encoded = pd.get_dummies(joined_df,drop_first=True)"
   ]
  },
  {
   "cell_type": "code",
   "execution_count": null,
   "id": "assisted-bachelor",
   "metadata": {},
   "outputs": [],
   "source": []
  },
  {
   "cell_type": "code",
   "execution_count": 31,
   "id": "cognitive-reliance",
   "metadata": {},
   "outputs": [
    {
     "data": {
      "text/html": [
       "<div>\n",
       "<style scoped>\n",
       "    .dataframe tbody tr th:only-of-type {\n",
       "        vertical-align: middle;\n",
       "    }\n",
       "\n",
       "    .dataframe tbody tr th {\n",
       "        vertical-align: top;\n",
       "    }\n",
       "\n",
       "    .dataframe thead th {\n",
       "        text-align: right;\n",
       "    }\n",
       "</style>\n",
       "<table border=\"1\" class=\"dataframe\">\n",
       "  <thead>\n",
       "    <tr style=\"text-align: right;\">\n",
       "      <th></th>\n",
       "      <th>age</th>\n",
       "      <th>fnlwgt</th>\n",
       "      <th>education-num</th>\n",
       "      <th>capital-gain</th>\n",
       "      <th>capital-loss</th>\n",
       "      <th>hours-per-week</th>\n",
       "      <th>workclass_Local-gov</th>\n",
       "      <th>workclass_Never-worked</th>\n",
       "      <th>workclass_Private</th>\n",
       "      <th>workclass_Self-emp-inc</th>\n",
       "      <th>...</th>\n",
       "      <th>native-country_Puerto-Rico</th>\n",
       "      <th>native-country_Scotland</th>\n",
       "      <th>native-country_South</th>\n",
       "      <th>native-country_Taiwan</th>\n",
       "      <th>native-country_Thailand</th>\n",
       "      <th>native-country_Trinadad&amp;Tobago</th>\n",
       "      <th>native-country_United-States</th>\n",
       "      <th>native-country_Vietnam</th>\n",
       "      <th>native-country_Yugoslavia</th>\n",
       "      <th>target_&gt;50K</th>\n",
       "    </tr>\n",
       "  </thead>\n",
       "  <tbody>\n",
       "    <tr>\n",
       "      <th>0</th>\n",
       "      <td>39</td>\n",
       "      <td>77516</td>\n",
       "      <td>13</td>\n",
       "      <td>0.021740</td>\n",
       "      <td>0.0</td>\n",
       "      <td>40</td>\n",
       "      <td>0</td>\n",
       "      <td>0</td>\n",
       "      <td>0</td>\n",
       "      <td>0</td>\n",
       "      <td>...</td>\n",
       "      <td>0</td>\n",
       "      <td>0</td>\n",
       "      <td>0</td>\n",
       "      <td>0</td>\n",
       "      <td>0</td>\n",
       "      <td>0</td>\n",
       "      <td>1</td>\n",
       "      <td>0</td>\n",
       "      <td>0</td>\n",
       "      <td>0</td>\n",
       "    </tr>\n",
       "    <tr>\n",
       "      <th>1</th>\n",
       "      <td>50</td>\n",
       "      <td>83311</td>\n",
       "      <td>13</td>\n",
       "      <td>0.000000</td>\n",
       "      <td>0.0</td>\n",
       "      <td>13</td>\n",
       "      <td>0</td>\n",
       "      <td>0</td>\n",
       "      <td>0</td>\n",
       "      <td>0</td>\n",
       "      <td>...</td>\n",
       "      <td>0</td>\n",
       "      <td>0</td>\n",
       "      <td>0</td>\n",
       "      <td>0</td>\n",
       "      <td>0</td>\n",
       "      <td>0</td>\n",
       "      <td>1</td>\n",
       "      <td>0</td>\n",
       "      <td>0</td>\n",
       "      <td>0</td>\n",
       "    </tr>\n",
       "    <tr>\n",
       "      <th>2</th>\n",
       "      <td>38</td>\n",
       "      <td>215646</td>\n",
       "      <td>9</td>\n",
       "      <td>0.000000</td>\n",
       "      <td>0.0</td>\n",
       "      <td>40</td>\n",
       "      <td>0</td>\n",
       "      <td>0</td>\n",
       "      <td>1</td>\n",
       "      <td>0</td>\n",
       "      <td>...</td>\n",
       "      <td>0</td>\n",
       "      <td>0</td>\n",
       "      <td>0</td>\n",
       "      <td>0</td>\n",
       "      <td>0</td>\n",
       "      <td>0</td>\n",
       "      <td>1</td>\n",
       "      <td>0</td>\n",
       "      <td>0</td>\n",
       "      <td>0</td>\n",
       "    </tr>\n",
       "    <tr>\n",
       "      <th>3</th>\n",
       "      <td>53</td>\n",
       "      <td>234721</td>\n",
       "      <td>7</td>\n",
       "      <td>0.000000</td>\n",
       "      <td>0.0</td>\n",
       "      <td>40</td>\n",
       "      <td>0</td>\n",
       "      <td>0</td>\n",
       "      <td>1</td>\n",
       "      <td>0</td>\n",
       "      <td>...</td>\n",
       "      <td>0</td>\n",
       "      <td>0</td>\n",
       "      <td>0</td>\n",
       "      <td>0</td>\n",
       "      <td>0</td>\n",
       "      <td>0</td>\n",
       "      <td>1</td>\n",
       "      <td>0</td>\n",
       "      <td>0</td>\n",
       "      <td>0</td>\n",
       "    </tr>\n",
       "    <tr>\n",
       "      <th>4</th>\n",
       "      <td>28</td>\n",
       "      <td>338409</td>\n",
       "      <td>13</td>\n",
       "      <td>0.000000</td>\n",
       "      <td>0.0</td>\n",
       "      <td>40</td>\n",
       "      <td>0</td>\n",
       "      <td>0</td>\n",
       "      <td>1</td>\n",
       "      <td>0</td>\n",
       "      <td>...</td>\n",
       "      <td>0</td>\n",
       "      <td>0</td>\n",
       "      <td>0</td>\n",
       "      <td>0</td>\n",
       "      <td>0</td>\n",
       "      <td>0</td>\n",
       "      <td>0</td>\n",
       "      <td>0</td>\n",
       "      <td>0</td>\n",
       "      <td>0</td>\n",
       "    </tr>\n",
       "    <tr>\n",
       "      <th>...</th>\n",
       "      <td>...</td>\n",
       "      <td>...</td>\n",
       "      <td>...</td>\n",
       "      <td>...</td>\n",
       "      <td>...</td>\n",
       "      <td>...</td>\n",
       "      <td>...</td>\n",
       "      <td>...</td>\n",
       "      <td>...</td>\n",
       "      <td>...</td>\n",
       "      <td>...</td>\n",
       "      <td>...</td>\n",
       "      <td>...</td>\n",
       "      <td>...</td>\n",
       "      <td>...</td>\n",
       "      <td>...</td>\n",
       "      <td>...</td>\n",
       "      <td>...</td>\n",
       "      <td>...</td>\n",
       "      <td>...</td>\n",
       "      <td>...</td>\n",
       "    </tr>\n",
       "    <tr>\n",
       "      <th>16276</th>\n",
       "      <td>39</td>\n",
       "      <td>215419</td>\n",
       "      <td>13</td>\n",
       "      <td>0.000000</td>\n",
       "      <td>0.0</td>\n",
       "      <td>36</td>\n",
       "      <td>0</td>\n",
       "      <td>0</td>\n",
       "      <td>1</td>\n",
       "      <td>0</td>\n",
       "      <td>...</td>\n",
       "      <td>0</td>\n",
       "      <td>0</td>\n",
       "      <td>0</td>\n",
       "      <td>0</td>\n",
       "      <td>0</td>\n",
       "      <td>0</td>\n",
       "      <td>1</td>\n",
       "      <td>0</td>\n",
       "      <td>0</td>\n",
       "      <td>0</td>\n",
       "    </tr>\n",
       "    <tr>\n",
       "      <th>16277</th>\n",
       "      <td>64</td>\n",
       "      <td>321403</td>\n",
       "      <td>9</td>\n",
       "      <td>0.000000</td>\n",
       "      <td>0.0</td>\n",
       "      <td>40</td>\n",
       "      <td>0</td>\n",
       "      <td>0</td>\n",
       "      <td>1</td>\n",
       "      <td>0</td>\n",
       "      <td>...</td>\n",
       "      <td>0</td>\n",
       "      <td>0</td>\n",
       "      <td>0</td>\n",
       "      <td>0</td>\n",
       "      <td>0</td>\n",
       "      <td>0</td>\n",
       "      <td>1</td>\n",
       "      <td>0</td>\n",
       "      <td>0</td>\n",
       "      <td>0</td>\n",
       "    </tr>\n",
       "    <tr>\n",
       "      <th>16278</th>\n",
       "      <td>38</td>\n",
       "      <td>374983</td>\n",
       "      <td>13</td>\n",
       "      <td>0.000000</td>\n",
       "      <td>0.0</td>\n",
       "      <td>50</td>\n",
       "      <td>0</td>\n",
       "      <td>0</td>\n",
       "      <td>1</td>\n",
       "      <td>0</td>\n",
       "      <td>...</td>\n",
       "      <td>0</td>\n",
       "      <td>0</td>\n",
       "      <td>0</td>\n",
       "      <td>0</td>\n",
       "      <td>0</td>\n",
       "      <td>0</td>\n",
       "      <td>1</td>\n",
       "      <td>0</td>\n",
       "      <td>0</td>\n",
       "      <td>0</td>\n",
       "    </tr>\n",
       "    <tr>\n",
       "      <th>16279</th>\n",
       "      <td>44</td>\n",
       "      <td>83891</td>\n",
       "      <td>13</td>\n",
       "      <td>0.054551</td>\n",
       "      <td>0.0</td>\n",
       "      <td>40</td>\n",
       "      <td>0</td>\n",
       "      <td>0</td>\n",
       "      <td>1</td>\n",
       "      <td>0</td>\n",
       "      <td>...</td>\n",
       "      <td>0</td>\n",
       "      <td>0</td>\n",
       "      <td>0</td>\n",
       "      <td>0</td>\n",
       "      <td>0</td>\n",
       "      <td>0</td>\n",
       "      <td>1</td>\n",
       "      <td>0</td>\n",
       "      <td>0</td>\n",
       "      <td>0</td>\n",
       "    </tr>\n",
       "    <tr>\n",
       "      <th>16280</th>\n",
       "      <td>35</td>\n",
       "      <td>182148</td>\n",
       "      <td>13</td>\n",
       "      <td>0.000000</td>\n",
       "      <td>0.0</td>\n",
       "      <td>60</td>\n",
       "      <td>0</td>\n",
       "      <td>0</td>\n",
       "      <td>0</td>\n",
       "      <td>1</td>\n",
       "      <td>...</td>\n",
       "      <td>0</td>\n",
       "      <td>0</td>\n",
       "      <td>0</td>\n",
       "      <td>0</td>\n",
       "      <td>0</td>\n",
       "      <td>0</td>\n",
       "      <td>1</td>\n",
       "      <td>0</td>\n",
       "      <td>0</td>\n",
       "      <td>1</td>\n",
       "    </tr>\n",
       "  </tbody>\n",
       "</table>\n",
       "<p>48842 rows × 98 columns</p>\n",
       "</div>"
      ],
      "text/plain": [
       "       age  fnlwgt  education-num  capital-gain  capital-loss  hours-per-week  \\\n",
       "0       39   77516             13      0.021740           0.0              40   \n",
       "1       50   83311             13      0.000000           0.0              13   \n",
       "2       38  215646              9      0.000000           0.0              40   \n",
       "3       53  234721              7      0.000000           0.0              40   \n",
       "4       28  338409             13      0.000000           0.0              40   \n",
       "...    ...     ...            ...           ...           ...             ...   \n",
       "16276   39  215419             13      0.000000           0.0              36   \n",
       "16277   64  321403              9      0.000000           0.0              40   \n",
       "16278   38  374983             13      0.000000           0.0              50   \n",
       "16279   44   83891             13      0.054551           0.0              40   \n",
       "16280   35  182148             13      0.000000           0.0              60   \n",
       "\n",
       "       workclass_Local-gov  workclass_Never-worked  workclass_Private  \\\n",
       "0                        0                       0                  0   \n",
       "1                        0                       0                  0   \n",
       "2                        0                       0                  1   \n",
       "3                        0                       0                  1   \n",
       "4                        0                       0                  1   \n",
       "...                    ...                     ...                ...   \n",
       "16276                    0                       0                  1   \n",
       "16277                    0                       0                  1   \n",
       "16278                    0                       0                  1   \n",
       "16279                    0                       0                  1   \n",
       "16280                    0                       0                  0   \n",
       "\n",
       "       workclass_Self-emp-inc  ...  native-country_Puerto-Rico  \\\n",
       "0                           0  ...                           0   \n",
       "1                           0  ...                           0   \n",
       "2                           0  ...                           0   \n",
       "3                           0  ...                           0   \n",
       "4                           0  ...                           0   \n",
       "...                       ...  ...                         ...   \n",
       "16276                       0  ...                           0   \n",
       "16277                       0  ...                           0   \n",
       "16278                       0  ...                           0   \n",
       "16279                       0  ...                           0   \n",
       "16280                       1  ...                           0   \n",
       "\n",
       "       native-country_Scotland  native-country_South  native-country_Taiwan  \\\n",
       "0                            0                     0                      0   \n",
       "1                            0                     0                      0   \n",
       "2                            0                     0                      0   \n",
       "3                            0                     0                      0   \n",
       "4                            0                     0                      0   \n",
       "...                        ...                   ...                    ...   \n",
       "16276                        0                     0                      0   \n",
       "16277                        0                     0                      0   \n",
       "16278                        0                     0                      0   \n",
       "16279                        0                     0                      0   \n",
       "16280                        0                     0                      0   \n",
       "\n",
       "       native-country_Thailand  native-country_Trinadad&Tobago  \\\n",
       "0                            0                               0   \n",
       "1                            0                               0   \n",
       "2                            0                               0   \n",
       "3                            0                               0   \n",
       "4                            0                               0   \n",
       "...                        ...                             ...   \n",
       "16276                        0                               0   \n",
       "16277                        0                               0   \n",
       "16278                        0                               0   \n",
       "16279                        0                               0   \n",
       "16280                        0                               0   \n",
       "\n",
       "       native-country_United-States  native-country_Vietnam  \\\n",
       "0                                 1                       0   \n",
       "1                                 1                       0   \n",
       "2                                 1                       0   \n",
       "3                                 1                       0   \n",
       "4                                 0                       0   \n",
       "...                             ...                     ...   \n",
       "16276                             1                       0   \n",
       "16277                             1                       0   \n",
       "16278                             1                       0   \n",
       "16279                             1                       0   \n",
       "16280                             1                       0   \n",
       "\n",
       "       native-country_Yugoslavia  target_>50K  \n",
       "0                              0            0  \n",
       "1                              0            0  \n",
       "2                              0            0  \n",
       "3                              0            0  \n",
       "4                              0            0  \n",
       "...                          ...          ...  \n",
       "16276                          0            0  \n",
       "16277                          0            0  \n",
       "16278                          0            0  \n",
       "16279                          0            0  \n",
       "16280                          0            1  \n",
       "\n",
       "[48842 rows x 98 columns]"
      ]
     },
     "execution_count": 31,
     "metadata": {},
     "output_type": "execute_result"
    }
   ],
   "source": [
    "joined_df_encoded"
   ]
  },
  {
   "cell_type": "code",
   "execution_count": 32,
   "id": "congressional-employee",
   "metadata": {},
   "outputs": [
    {
     "data": {
      "text/plain": [
       "(32561, 15)"
      ]
     },
     "execution_count": 32,
     "metadata": {},
     "output_type": "execute_result"
    }
   ],
   "source": [
    "train.shape"
   ]
  },
  {
   "cell_type": "code",
   "execution_count": 33,
   "id": "scheduled-lecture",
   "metadata": {},
   "outputs": [],
   "source": [
    "#splitting dataset into train and test again : \n",
    "train_data = joined_df_encoded.iloc[:train.shape[0]]\n",
    "test_data = joined_df_encoded.iloc[train.shape[0]:]"
   ]
  },
  {
   "cell_type": "code",
   "execution_count": 34,
   "id": "adolescent-record",
   "metadata": {},
   "outputs": [
    {
     "data": {
      "text/plain": [
       "0    24720\n",
       "1     7841\n",
       "Name: target_>50K, dtype: int64"
      ]
     },
     "execution_count": 34,
     "metadata": {},
     "output_type": "execute_result"
    }
   ],
   "source": [
    "#checking the proportion of target class \n",
    "train_data['target_>50K'].value_counts()\n",
    "#the class proportion 4 : 1 "
   ]
  },
  {
   "cell_type": "code",
   "execution_count": 35,
   "id": "major-subscriber",
   "metadata": {},
   "outputs": [],
   "source": [
    "x = train_data[[x for x in train_data.columns if x != 'target_>50K']]\n",
    "y = train_data['target_>50K']"
   ]
  },
  {
   "cell_type": "code",
   "execution_count": 36,
   "id": "stretch-confidence",
   "metadata": {},
   "outputs": [],
   "source": [
    "#meding scroll,\n",
    "from sklearn.model_selection import train_test_split \n",
    "x_train,x_val,y_train,y_val = train_test_split(x,y,test_size=0.3,random_state=42)\n"
   ]
  },
  {
   "cell_type": "code",
   "execution_count": 37,
   "id": "illegal-characterization",
   "metadata": {},
   "outputs": [],
   "source": [
    "#implementing imbalanced learning treatment since the dataset is not equal in comparison \n",
    "from imblearn.over_sampling import SMOTE"
   ]
  },
  {
   "cell_type": "code",
   "execution_count": 38,
   "id": "packed-huntington",
   "metadata": {},
   "outputs": [],
   "source": [
    "oversampling = SMOTE()"
   ]
  },
  {
   "cell_type": "code",
   "execution_count": 39,
   "id": "furnished-coaching",
   "metadata": {},
   "outputs": [
    {
     "data": {
      "text/plain": [
       "0    17265\n",
       "1     5527\n",
       "Name: target_>50K, dtype: int64"
      ]
     },
     "execution_count": 39,
     "metadata": {},
     "output_type": "execute_result"
    }
   ],
   "source": [
    "y_train.value_counts()"
   ]
  },
  {
   "cell_type": "code",
   "execution_count": 40,
   "id": "formal-spank",
   "metadata": {},
   "outputs": [],
   "source": [
    "x_resample,y_resample = oversampling.fit_resample(x_train,y_train)"
   ]
  },
  {
   "cell_type": "code",
   "execution_count": 41,
   "id": "integrated-tulsa",
   "metadata": {},
   "outputs": [
    {
     "data": {
      "text/plain": [
       "1    17265\n",
       "0    17265\n",
       "Name: target_>50K, dtype: int64"
      ]
     },
     "execution_count": 41,
     "metadata": {},
     "output_type": "execute_result"
    }
   ],
   "source": [
    "y_resample.value_counts()"
   ]
  },
  {
   "cell_type": "code",
   "execution_count": 42,
   "id": "infinite-disco",
   "metadata": {},
   "outputs": [],
   "source": [
    "from sklearn.metrics import accuracy_score,confusion_matrix"
   ]
  },
  {
   "cell_type": "code",
   "execution_count": 43,
   "id": "listed-lying",
   "metadata": {},
   "outputs": [],
   "source": [
    "\n",
    "#trying all available algorithm \n",
    "from sklearn.linear_model import RidgeClassifier, LogisticRegression,SGDClassifier\n",
    "from sklearn.discriminant_analysis import LinearDiscriminantAnalysis\n",
    "from sklearn.svm import SVC\n",
    "\n",
    "from sklearn.neighbors import NearestCentroid,KNeighborsClassifier\n",
    "from sklearn.naive_bayes import GaussianNB\n",
    "from sklearn.tree import DecisionTreeClassifier\n",
    "from sklearn.ensemble import BaggingClassifier,RandomForestClassifier,ExtraTreesClassifier,AdaBoostClassifier,GradientBoostingClassifier\n",
    "from sklearn.neural_network import MLPClassifier\n",
    "#importing metrics\n",
    "from sklearn.metrics import accuracy_score,f1_score,confusion_matrix,classification_report\n",
    "list_of_algo = [RidgeClassifier, LogisticRegression,SGDClassifier,LinearDiscriminantAnalysis,SVC,NearestCentroid,GaussianNB,DecisionTreeClassifier,BaggingClassifier,RandomForestClassifier,ExtraTreesClassifier]"
   ]
  },
  {
   "cell_type": "code",
   "execution_count": 47,
   "id": "presidential-appearance",
   "metadata": {},
   "outputs": [],
   "source": [
    "#implementing cross validation \n",
    "from sklearn.model_selection import StratifiedKFold,cross_val_score\n",
    "kfold = StratifiedKFold(n_splits=10)"
   ]
  },
  {
   "cell_type": "code",
   "execution_count": 50,
   "id": "dangerous-trader",
   "metadata": {},
   "outputs": [],
   "source": [
    "from xgboost import XGBClassifier\n",
    "from sklearn.model_selection import GridSearchCV"
   ]
  },
  {
   "cell_type": "code",
   "execution_count": 88,
   "id": "specialized-shoot",
   "metadata": {},
   "outputs": [
    {
     "name": "stderr",
     "output_type": "stream",
     "text": [
      "c:\\users\\fakhri robi aulia\\appdata\\local\\programs\\python\\python37\\lib\\site-packages\\seaborn\\_decorators.py:43: FutureWarning: Pass the following variables as keyword args: x, y. From version 0.12, the only valid positional argument will be `data`, and passing other arguments without an explicit keyword will result in an error or misinterpretation.\n",
      "  FutureWarning\n"
     ]
    },
    {
     "data": {
      "image/png": "[encoded data removed]",
      "text/plain": [
       "<Figure size 432x288 with 1 Axes>"
      ]
     },
     "metadata": {
      "needs_background": "light"
     },
     "output_type": "display_data"
    }
   ],
   "source": [
    "# Modeling step Test differents algorithms #inspired by Mohammed Innat on how he dealt with Titanic Competition\n",
    "random_state = 2\n",
    "classifiers = []\n",
    "classifiers.append(SVC(random_state=random_state))\n",
    "classifiers.append(DecisionTreeClassifier(random_state=random_state))\n",
    "classifiers.append(AdaBoostClassifier(DecisionTreeClassifier(random_state=random_state),random_state=random_state,learning_rate=0.1))\n",
    "classifiers.append(RandomForestClassifier(random_state=random_state))\n",
    "classifiers.append(ExtraTreesClassifier(random_state=random_state))\n",
    "classifiers.append(GradientBoostingClassifier(random_state=random_state))\n",
    "classifiers.append(MLPClassifier(random_state=random_state))\n",
    "classifiers.append(KNeighborsClassifier())\n",
    "classifiers.append(LogisticRegression(random_state = random_state))\n",
    "classifiers.append(LinearDiscriminantAnalysis())\n",
    "classifiers.append(XGBClassifier())\n",
    "\n",
    "\n",
    "cv_results = []\n",
    "for classifier in classifiers :\n",
    "    cv_results.append(cross_val_score(classifier, x_resample, y = y_resample, scoring = \"accuracy\", cv = kfold, n_jobs=4))\n",
    "\n",
    "cv_means = []\n",
    "cv_std = []\n",
    "for cv_result in cv_results:\n",
    "    cv_means.append(cv_result.mean())\n",
    "    cv_std.append(cv_result.std())\n",
    "\n",
    "cv_res = pd.DataFrame({\"CrossValMeans\":cv_means,\"CrossValerrors\": cv_std,\"Algorithm\":[\"SVC\",\"DecisionTree\",\"AdaBoost\",\n",
    "\"RandomForest\",\"ExtraTrees\",\"GradientBoosting\",\"MultipleLayerPerceptron\",\"KNeighboors\",\"LogisticRegression\",\"LinearDiscriminantAnalysis\",\"XGBClassifier\"]})\n",
    "\n",
    "g = sns.barplot(\"CrossValMeans\",\"Algorithm\",data = cv_res, palette=\"Set3\",orient = \"h\",**{'xerr':cv_std})\n",
    "g.set_xlabel(\"Mean Accuracy\")\n",
    "g = g.set_title(\"Cross validation scores\")"
   ]
  },
  {
   "cell_type": "code",
   "execution_count": 89,
   "id": "pleased-convention",
   "metadata": {},
   "outputs": [
    {
     "data": {
      "text/html": [
       "<div>\n",
       "<style scoped>\n",
       "    .dataframe tbody tr th:only-of-type {\n",
       "        vertical-align: middle;\n",
       "    }\n",
       "\n",
       "    .dataframe tbody tr th {\n",
       "        vertical-align: top;\n",
       "    }\n",
       "\n",
       "    .dataframe thead th {\n",
       "        text-align: right;\n",
       "    }\n",
       "</style>\n",
       "<table border=\"1\" class=\"dataframe\">\n",
       "  <thead>\n",
       "    <tr style=\"text-align: right;\">\n",
       "      <th></th>\n",
       "      <th>CrossValMeans</th>\n",
       "      <th>CrossValerrors</th>\n",
       "      <th>Algorithm</th>\n",
       "    </tr>\n",
       "  </thead>\n",
       "  <tbody>\n",
       "    <tr>\n",
       "      <th>10</th>\n",
       "      <td>0.903533</td>\n",
       "      <td>0.074893</td>\n",
       "      <td>XGBClassifier</td>\n",
       "    </tr>\n",
       "    <tr>\n",
       "      <th>3</th>\n",
       "      <td>0.889429</td>\n",
       "      <td>0.081942</td>\n",
       "      <td>RandomForest</td>\n",
       "    </tr>\n",
       "    <tr>\n",
       "      <th>5</th>\n",
       "      <td>0.886302</td>\n",
       "      <td>0.068282</td>\n",
       "      <td>GradientBoosting</td>\n",
       "    </tr>\n",
       "    <tr>\n",
       "      <th>4</th>\n",
       "      <td>0.878888</td>\n",
       "      <td>0.090234</td>\n",
       "      <td>ExtraTrees</td>\n",
       "    </tr>\n",
       "    <tr>\n",
       "      <th>9</th>\n",
       "      <td>0.873820</td>\n",
       "      <td>0.097349</td>\n",
       "      <td>LinearDiscriminantAnalysis</td>\n",
       "    </tr>\n",
       "    <tr>\n",
       "      <th>1</th>\n",
       "      <td>0.860122</td>\n",
       "      <td>0.081111</td>\n",
       "      <td>DecisionTree</td>\n",
       "    </tr>\n",
       "    <tr>\n",
       "      <th>2</th>\n",
       "      <td>0.859427</td>\n",
       "      <td>0.079802</td>\n",
       "      <td>AdaBoost</td>\n",
       "    </tr>\n",
       "    <tr>\n",
       "      <th>7</th>\n",
       "      <td>0.676253</td>\n",
       "      <td>0.016485</td>\n",
       "      <td>KNeighboors</td>\n",
       "    </tr>\n",
       "    <tr>\n",
       "      <th>8</th>\n",
       "      <td>0.572777</td>\n",
       "      <td>0.009614</td>\n",
       "      <td>LogisticRegression</td>\n",
       "    </tr>\n",
       "    <tr>\n",
       "      <th>6</th>\n",
       "      <td>0.570374</td>\n",
       "      <td>0.073523</td>\n",
       "      <td>MultipleLayerPerceptron</td>\n",
       "    </tr>\n",
       "    <tr>\n",
       "      <th>0</th>\n",
       "      <td>0.516305</td>\n",
       "      <td>0.008898</td>\n",
       "      <td>SVC</td>\n",
       "    </tr>\n",
       "  </tbody>\n",
       "</table>\n",
       "</div>"
      ],
      "text/plain": [
       "    CrossValMeans  CrossValerrors                   Algorithm\n",
       "10       0.903533        0.074893               XGBClassifier\n",
       "3        0.889429        0.081942                RandomForest\n",
       "5        0.886302        0.068282            GradientBoosting\n",
       "4        0.878888        0.090234                  ExtraTrees\n",
       "9        0.873820        0.097349  LinearDiscriminantAnalysis\n",
       "1        0.860122        0.081111                DecisionTree\n",
       "2        0.859427        0.079802                    AdaBoost\n",
       "7        0.676253        0.016485                 KNeighboors\n",
       "8        0.572777        0.009614          LogisticRegression\n",
       "6        0.570374        0.073523     MultipleLayerPerceptron\n",
       "0        0.516305        0.008898                         SVC"
      ]
     },
     "execution_count": 89,
     "metadata": {},
     "output_type": "execute_result"
    }
   ],
   "source": [
    "cv_res.sort_values('CrossValMeans',ascending=False)"
   ]
  },
  {
   "cell_type": "code",
   "execution_count": null,
   "id": "studied-flashing",
   "metadata": {},
   "outputs": [],
   "source": [
    "cv_res.to_excel('benchmark.xlsx',index=False)"
   ]
  },
  {
   "cell_type": "code",
   "execution_count": 53,
   "id": "portable-border",
   "metadata": {},
   "outputs": [
    {
     "name": "stdout",
     "output_type": "stream",
     "text": [
      "[0.717521   0.74514915]\n"
     ]
    },
    {
     "data": {
      "text/plain": [
       "73.13"
      ]
     },
     "execution_count": 53,
     "metadata": {},
     "output_type": "execute_result"
    }
   ],
   "source": [
    "#based on this result we will pick 5 top score algorithm and do some hypter parameter tuning"
   ]
  },
  {
   "cell_type": "code",
   "execution_count": 53,
   "id": "toxic-alloy",
   "metadata": {},
   "outputs": [
    {
     "name": "stdout",
     "output_type": "stream",
     "text": [
      "Fitting 10 folds for each of 216 candidates, totalling 2160 fits\n"
     ]
    },
    {
     "data": {
      "text/plain": [
       "0.9011584129742254"
      ]
     },
     "execution_count": 53,
     "metadata": {},
     "output_type": "execute_result"
    }
   ],
   "source": [
    "#Running hyperparameter on GradientBoostingClassifier\n",
    "\n",
    "\n",
    "gradboost = GradientBoostingClassifier()\n",
    "gb_param_grid = {\n",
    "              'loss' : [\"deviance\"],\n",
    "              'n_estimators' : [100,200,300],\n",
    "              'learning_rate': [0.1, 0.05, 0.01, 0.001],\n",
    "              'max_depth': [4, 8,16],\n",
    "              'min_samples_leaf': [100,150,250],\n",
    "              'max_features': [0.3, 0.1]\n",
    "              }\n",
    "\n",
    "gradcv = GridSearchCV(gradboost, param_grid = gb_param_grid, cv=kfold, \n",
    "                     scoring=\"accuracy\", n_jobs= -1, verbose = 1)\n",
    "\n",
    "gradcv.fit(x_resample,y_resample)\n",
    "gbc_best = gsGBC.best_estimator_\n",
    "\n",
    "# Best score\n",
    "gradcv.best_score_"
   ]
  },
  {
   "cell_type": "code",
   "execution_count": 54,
   "id": "fiscal-benchmark",
   "metadata": {},
   "outputs": [
    {
     "data": {
      "text/plain": [
       "GradientBoostingClassifier(learning_rate=0.05, max_depth=16, max_features=0.3,\n",
       "                           min_samples_leaf=150, n_estimators=300)"
      ]
     },
     "execution_count": 54,
     "metadata": {},
     "output_type": "execute_result"
    }
   ],
   "source": [
    "GBC_best"
   ]
  },
  {
   "cell_type": "code",
   "execution_count": 51,
   "id": "interpreted-hawaii",
   "metadata": {},
   "outputs": [
    {
     "name": "stdout",
     "output_type": "stream",
     "text": [
      "Fitting 10 folds for each of 36 candidates, totalling 360 fits\n"
     ]
    },
    {
     "data": {
      "text/plain": [
       "0.8950477845351867"
      ]
     },
     "execution_count": 51,
     "metadata": {},
     "output_type": "execute_result"
    }
   ],
   "source": [
    "#running hyperparameter on randomforest classifier\n",
    "\n",
    "rf = RandomForestClassifier()\n",
    "\n",
    "## Search grid for optimal parameters\n",
    "rf_param_grid = {\"max_depth\": [None],\n",
    "              \"min_samples_split\": [2, 6, 20],\n",
    "              \"min_samples_leaf\": [1, 4, 16],\n",
    "              \"n_estimators\" :[100,200,300,400],\n",
    "              \"criterion\": [\"gini\"]}\n",
    "\n",
    "\n",
    "gsrf = GridSearchCV(rf, param_grid = rf_param_grid, cv=kfold,\n",
    "                     scoring=\"accuracy\", n_jobs= -1, verbose = 1)\n",
    "\n",
    "gsrf.fit(x_resample,y_resample)\n",
    "rf_best = gsrf.best_estimator_\n",
    "\n",
    "# Best score\n",
    "gsrf.best_score_"
   ]
  },
  {
   "cell_type": "code",
   "execution_count": 52,
   "id": "automatic-success",
   "metadata": {},
   "outputs": [
    {
     "data": {
      "text/plain": [
       "RandomForestClassifier(min_samples_split=20, n_estimators=200)"
      ]
     },
     "execution_count": 52,
     "metadata": {},
     "output_type": "execute_result"
    }
   ],
   "source": [
    "rf_best"
   ]
  },
  {
   "cell_type": "code",
   "execution_count": 57,
   "id": "tropical-creativity",
   "metadata": {
    "scrolled": true
   },
   "outputs": [
    {
     "name": "stdout",
     "output_type": "stream",
     "text": [
      "Fitting 10 folds for each of 405 candidates, totalling 4050 fits\n"
     ]
    },
    {
     "name": "stderr",
     "output_type": "stream",
     "text": [
      "c:\\users\\fakhri robi aulia\\appdata\\local\\programs\\python\\python37\\lib\\site-packages\\xgboost\\sklearn.py:888: UserWarning: The use of label encoder in XGBClassifier is deprecated and will be removed in a future release. To remove this warning, do the following: 1) Pass option use_label_encoder=False when constructing XGBClassifier object; and 2) Encode your labels (y) as integers starting with 0, i.e. 0, 1, 2, ..., [num_class - 1].\n",
      "  warnings.warn(label_encoder_deprecation_msg, UserWarning)\n"
     ]
    },
    {
     "data": {
      "text/plain": [
       "0.9034173182739649"
      ]
     },
     "execution_count": 57,
     "metadata": {},
     "output_type": "execute_result"
    }
   ],
   "source": [
    "#running hyperparameter on xgbclassifier\n",
    "\n",
    "xgbc = XGBClassifier(eval_metric='error')\n",
    "xgbc_param_grid = {\n",
    "        'min_child_weight': [1, 5, 10],\n",
    "        'gamma': [0.5, 1, 1.5, 2, 5],\n",
    "        'subsample': [0.6, 0.8, 1.0],\n",
    "        'colsample_bytree': [0.6, 0.8, 1.0],\n",
    "        'max_depth': [3, 4, 5]\n",
    "        }\n",
    "gsxgbc = GridSearchCV(xgbc, param_grid = xgbc_param_grid, cv=kfold,\n",
    "                     scoring=\"accuracy\", n_jobs= -1, verbose = 1)\n",
    "gsxgbc.fit(x_resample,y_resample)\n",
    "\n",
    "xgbc_best = gsxgbc.best_estimator_\n",
    "gsxgbc.best_score_"
   ]
  },
  {
   "cell_type": "code",
   "execution_count": 59,
   "id": "better-buffer",
   "metadata": {},
   "outputs": [
    {
     "data": {
      "text/plain": [
       "XGBClassifier(base_score=0.5, booster='gbtree', colsample_bylevel=1,\n",
       "              colsample_bynode=1, colsample_bytree=0.6, eval_metric='error',\n",
       "              gamma=0.5, gpu_id=-1, importance_type='gain',\n",
       "              interaction_constraints='', learning_rate=0.300000012,\n",
       "              max_delta_step=0, max_depth=5, min_child_weight=1, missing=nan,\n",
       "              monotone_constraints='()', n_estimators=100, n_jobs=12,\n",
       "              num_parallel_tree=1, random_state=0, reg_alpha=0, reg_lambda=1,\n",
       "              scale_pos_weight=1, subsample=1.0, tree_method='exact',\n",
       "              validate_parameters=1, verbosity=None)"
      ]
     },
     "execution_count": 59,
     "metadata": {},
     "output_type": "execute_result"
    }
   ],
   "source": [
    "xgbc_best "
   ]
  },
  {
   "cell_type": "code",
   "execution_count": 60,
   "id": "baking-finding",
   "metadata": {},
   "outputs": [],
   "source": [
    "from sklearn.model_selection import learning_curve"
   ]
  },
  {
   "cell_type": "code",
   "execution_count": 61,
   "id": "immune-dancing",
   "metadata": {},
   "outputs": [],
   "source": [
    "#comparing learning curves from GradientBoostingClassifier,RandomForestClassifier,and XGBClassifier\n",
    "def plot_learning_curve(estimator, title, X, y, ylim=None, cv=None,\n",
    "                        n_jobs=-1, train_sizes=np.linspace(.1, 1.0, 5)):\n",
    "    \"\"\"\n",
    "    Generate a simple plot of the test and traning learning curve.\n",
    "\n",
    "    Parameters\n",
    "    ----------\n",
    "    estimator : object type that implements the \"fit\" and \"predict\" methods\n",
    "        An object of that type which is cloned for each validation.\n",
    "\n",
    "    title : string\n",
    "        Title for the chart.\n",
    "\n",
    "    X : array-like, shape (n_samples, n_features)\n",
    "        Training vector, where n_samples is the number of samples and\n",
    "        n_features is the number of features.\n",
    "\n",
    "    y : array-like, shape (n_samples) or (n_samples, n_features), optional\n",
    "        Target relative to X for classification or regression;\n",
    "        None for unsupervised learning.\n",
    "\n",
    "    ylim : tuple, shape (ymin, ymax), optional\n",
    "        Defines minimum and maximum yvalues plotted.\n",
    "\n",
    "    cv : integer, cross-validation generator, optional\n",
    "        If an integer is passed, it is the number of folds (defaults to 3).\n",
    "        Specific cross-validation objects can be passed, see\n",
    "        sklearn.cross_validation module for the list of possible objects\n",
    "\n",
    "    n_jobs : integer, optional\n",
    "        Number of jobs to run in parallel (default 1).\n",
    "        \n",
    "    x1 = np.linspace(0, 10, 8, endpoint=True) produces\n",
    "        8 evenly spaced points in the range 0 to 10\n",
    "    \"\"\"\n",
    "    \n",
    "    \n",
    "    plt.figure()\n",
    "    plt.title(title)\n",
    "    if ylim is not None:\n",
    "        plt.ylim(*ylim)\n",
    "        \n",
    "    plt.xlabel(\"Training examples\")\n",
    "    plt.ylabel(\"Score\")\n",
    "    train_sizes, train_scores, test_scores = learning_curve(\n",
    "        estimator, X, y, cv=cv, n_jobs=n_jobs, train_sizes=train_sizes)\n",
    "    train_scores_mean = np.mean(train_scores, axis=1)\n",
    "    train_scores_std = np.std(train_scores, axis=1)\n",
    "    test_scores_mean = np.mean(test_scores, axis=1)\n",
    "    test_scores_std = np.std(test_scores, axis=1)\n",
    "    plt.grid()\n",
    "\n",
    "    plt.fill_between(train_sizes, train_scores_mean - train_scores_std,\n",
    "                     train_scores_mean + train_scores_std, alpha=0.1,\n",
    "                     color=\"r\")\n",
    "    plt.fill_between(train_sizes, test_scores_mean - test_scores_std,\n",
    "                     test_scores_mean + test_scores_std, alpha=0.1, color=\"g\")\n",
    "    plt.plot(train_sizes, train_scores_mean, 'o-', color=\"r\",\n",
    "             label=\"Training score\")\n",
    "    plt.plot(train_sizes, test_scores_mean, 'o-', color=\"g\",\n",
    "             label=\"Cross-validation score\")\n",
    "\n",
    "    plt.legend(loc=\"best\")\n",
    "    return plt"
   ]
  },
  {
   "cell_type": "code",
   "execution_count": 64,
   "id": "obvious-cement",
   "metadata": {},
   "outputs": [
    {
     "data": {
      "text/plain": [
       "<module 'matplotlib.pyplot' from 'c:\\\\users\\\\fakhri robi aulia\\\\appdata\\\\local\\\\programs\\\\python\\\\python37\\\\lib\\\\site-packages\\\\matplotlib\\\\pyplot.py'>"
      ]
     },
     "execution_count": 64,
     "metadata": {},
     "output_type": "execute_result"
    },
    {
     "data": {
      "image/png": "[encoded data removed]",
      "text/plain": [
       "<Figure size 432x288 with 1 Axes>"
      ]
     },
     "metadata": {
      "needs_background": "light"
     },
     "output_type": "display_data"
    }
   ],
   "source": [
    "plot_learning_curve(estimator = gsGBC.best_estimator_,title = \"GradientBoostingClassifier learning curve\",\n",
    "                    X = x_resample, y = y_resample, cv = kfold)"
   ]
  },
  {
   "cell_type": "code",
   "execution_count": 63,
   "id": "divided-pointer",
   "metadata": {},
   "outputs": [
    {
     "data": {
      "text/plain": [
       "<module 'matplotlib.pyplot' from 'c:\\\\users\\\\fakhri robi aulia\\\\appdata\\\\local\\\\programs\\\\python\\\\python37\\\\lib\\\\site-packages\\\\matplotlib\\\\pyplot.py'>"
      ]
     },
     "execution_count": 63,
     "metadata": {},
     "output_type": "execute_result"
    },
    {
     "data": {
      "image/png": "[encoded data removed]",
      "text/plain": [
       "<Figure size 432x288 with 1 Axes>"
      ]
     },
     "metadata": {
      "needs_background": "light"
     },
     "output_type": "display_data"
    }
   ],
   "source": [
    "plot_learning_curve(estimator = gsRFC.best_estimator_,title = \"Random Forest learning curve\",\n",
    "                    X = x_resample, y = y_resample, cv = kfold)"
   ]
  },
  {
   "cell_type": "code",
   "execution_count": 79,
   "id": "sharp-sustainability",
   "metadata": {},
   "outputs": [
    {
     "data": {
      "text/plain": [
       "<module 'matplotlib.pyplot' from 'c:\\\\users\\\\fakhri robi aulia\\\\appdata\\\\local\\\\programs\\\\python\\\\python37\\\\lib\\\\site-packages\\\\matplotlib\\\\pyplot.py'>"
      ]
     },
     "execution_count": 79,
     "metadata": {},
     "output_type": "execute_result"
    },
    {
     "data": {
      "image/png": "[encoded data removed]",
      "text/plain": [
       "<Figure size 432x288 with 1 Axes>"
      ]
     },
     "metadata": {
      "needs_background": "light"
     },
     "output_type": "display_data"
    }
   ],
   "source": [
    "plot_learning_curve(estimator = gsxgbc.best_estimator_,title = \"XGBClassifier learning curve\",\n",
    "                    X = x_resample, y = y_resample, cv = kfold)"
   ]
  },
  {
   "cell_type": "code",
   "execution_count": 66,
   "id": "serious-serbia",
   "metadata": {},
   "outputs": [],
   "source": [
    "#compiling three models using VotingClassifier\n",
    "from sklearn.ensemble import VotingClassifier\n",
    "voting_clf = VotingClassifier(estimators=[('gradientboosting',gbc_best),('randomforest',rf_best),('xgboost',xgbc_best)],voting='soft',n_jobs=4)\n",
    "voting_clf = voting_clf.fit(x_resample,y_resample)\n",
    "y_pred = voting_clf.predict(x_val)\n",
    "print(accuracy_score(y_pred,y_val))"
   ]
  },
  {
   "cell_type": "code",
   "execution_count": 76,
   "id": "obvious-running",
   "metadata": {},
   "outputs": [
    {
     "ename": "NameError",
     "evalue": "name 'scores' is not defined",
     "output_type": "error",
     "traceback": [
      "\u001b[1;31m---------------------------------------------------------------------------\u001b[0m",
      "\u001b[1;31mNameError\u001b[0m                                 Traceback (most recent call last)",
      "\u001b[1;32m<ipython-input-76-e7d362030429>\u001b[0m in \u001b[0;36m<module>\u001b[1;34m\u001b[0m\n\u001b[0;32m      1\u001b[0m score = cross_val_score(voting_clf, x_resample, y_resample, cv = kfold,\n\u001b[0;32m      2\u001b[0m                        n_jobs = 4, scoring = 'accuracy')\n\u001b[1;32m----> 3\u001b[1;33m \u001b[0mprint\u001b[0m\u001b[1;33m(\u001b[0m\u001b[0mscores\u001b[0m\u001b[1;33m)\u001b[0m\u001b[1;33m\u001b[0m\u001b[0m\n\u001b[0m\u001b[0;32m      4\u001b[0m \u001b[0mprint\u001b[0m\u001b[1;33m(\u001b[0m\u001b[0mround\u001b[0m\u001b[1;33m(\u001b[0m\u001b[0mnp\u001b[0m\u001b[1;33m.\u001b[0m\u001b[0mmean\u001b[0m\u001b[1;33m(\u001b[0m\u001b[0mscores\u001b[0m\u001b[1;33m)\u001b[0m\u001b[1;33m*\u001b[0m\u001b[1;36m100\u001b[0m\u001b[1;33m,\u001b[0m \u001b[1;36m2\u001b[0m\u001b[1;33m)\u001b[0m\u001b[1;33m)\u001b[0m\u001b[1;33m\u001b[0m\u001b[0m\n",
      "\u001b[1;31mNameError\u001b[0m: name 'scores' is not defined"
     ]
    }
   ],
   "source": [
    "score = cross_val_score(voting_clf, x_resample, y_resample, cv = kfold,\n",
    "                       n_jobs = 4, scoring = 'accuracy')\n"
   ]
  },
  {
   "cell_type": "code",
   "execution_count": 77,
   "id": "centered-campus",
   "metadata": {},
   "outputs": [
    {
     "name": "stdout",
     "output_type": "stream",
     "text": [
      "[0.78656241 0.78163915 0.78916884 0.92673038 0.95742832 0.95887634\n",
      " 0.95453229 0.95308427 0.95742832 0.95742832]\n",
      "90.23\n"
     ]
    }
   ],
   "source": [
    "print(score)\n",
    "print(round(np.mean(score)*100, 2))"
   ]
  },
  {
   "cell_type": "code",
   "execution_count": 75,
   "id": "broadband-saturday",
   "metadata": {},
   "outputs": [
    {
     "name": "stdout",
     "output_type": "stream",
     "text": [
      "0.8593510082915344\n"
     ]
    }
   ],
   "source": [
    "#checking Random Forest   Accuracy\n",
    "clf = RandomForestClassifier(min_samples_split=20, n_estimators=200)\n",
    "clf.fit(x_resample,y_resample)\n",
    "y_pred = clf.predict(x_val)\n",
    "print(accuracy_score(y_pred,y_val))"
   ]
  },
  {
   "cell_type": "code",
   "execution_count": 85,
   "id": "empty-shelf",
   "metadata": {},
   "outputs": [
    {
     "name": "stdout",
     "output_type": "stream",
     "text": [
      "0.8458388780837343\n"
     ]
    }
   ],
   "source": [
    "#checking Gradient Boosting Accuracy\n",
    "clf2 = GradientBoostingClassifier(learning_rate=0.01, max_depth=16, max_features=0.1,\n",
    "                           min_samples_leaf=250, n_estimators=300)\n",
    "clf2.fit(x_resample,y_resample)\n",
    "y_pred2 = clf2.predict(x_val)\n",
    "print(accuracy_score(y_pred2,y_val))"
   ]
  },
  {
   "cell_type": "code",
   "execution_count": 74,
   "id": "micro-course",
   "metadata": {},
   "outputs": [
    {
     "name": "stderr",
     "output_type": "stream",
     "text": [
      "c:\\users\\fakhri robi aulia\\appdata\\local\\programs\\python\\python37\\lib\\site-packages\\xgboost\\sklearn.py:888: UserWarning: The use of label encoder in XGBClassifier is deprecated and will be removed in a future release. To remove this warning, do the following: 1) Pass option use_label_encoder=False when constructing XGBClassifier object; and 2) Encode your labels (y) as integers starting with 0, i.e. 0, 1, 2, ..., [num_class - 1].\n",
      "  warnings.warn(label_encoder_deprecation_msg, UserWarning)\n"
     ]
    },
    {
     "name": "stdout",
     "output_type": "stream",
     "text": [
      "0.8656976149042891\n"
     ]
    }
   ],
   "source": [
    "#checking XGBClassifier Accuracy\n",
    "clf3 = XGBClassifier(base_score=0.5, booster='gbtree', colsample_bylevel=1,\n",
    "              colsample_bynode=1, colsample_bytree=0.6, eval_metric='error',\n",
    "              gamma=0.5, gpu_id=-1, importance_type='gain',\n",
    "              interaction_constraints='', learning_rate=0.300000012,\n",
    "              max_delta_step=0, max_depth=5, min_child_weight=1, missing=np.nan,\n",
    "              monotone_constraints='()', n_estimators=100, n_jobs=12,\n",
    "              num_parallel_tree=1, random_state=0, reg_alpha=0, reg_lambda=1,\n",
    "              scale_pos_weight=1, subsample=1.0, tree_method='exact',\n",
    "              validate_parameters=1, verbosity=None)\n",
    "clf3.fit(x_resample,y_resample)\n",
    "y_pred3 = clf3.predict(x_val)\n",
    "print(accuracy_score(y_pred3,y_val))"
   ]
  },
  {
   "cell_type": "code",
   "execution_count": 78,
   "id": "vertical-tackle",
   "metadata": {},
   "outputs": [
    {
     "data": {
      "text/plain": [
       "['final_model.pkl']"
      ]
     },
     "execution_count": 78,
     "metadata": {},
     "output_type": "execute_result"
    }
   ],
   "source": [
    "#saving model as pkl file \n",
    "import joblib \n",
    "filename = 'final_model.pkl'\n",
    "joblib.dump(voting_clf, filename)\n"
   ]
  },
  {
   "cell_type": "code",
   "execution_count": null,
   "id": "cultural-legend",
   "metadata": {},
   "outputs": [],
   "source": []
  }
 ],
 "metadata": {
  "kernelspec": {
   "display_name": "Python 3",
   "language": "python",
   "name": "python3"
  },
  "language_info": {
   "codemirror_mode": {
    "name": "ipython",
    "version": 3
   },
   "file_extension": ".py",
   "mimetype": "text/x-python",
   "name": "python",
   "nbconvert_exporter": "python",
   "pygments_lexer": "ipython3",
   "version": "3.7.0"
  }
 },
 "nbformat": 4,
 "nbformat_minor": 5
}
